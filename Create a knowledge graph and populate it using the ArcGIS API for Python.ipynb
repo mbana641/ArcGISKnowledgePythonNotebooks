{
 "cells": [
  {
   "cell_type": "markdown",
   "id": "155e30ee",
   "metadata": {},
   "source": [
    "## Create a knowledge graph and populate it using the ArcGIS API for Python"
   ]
  },
  {
   "cell_type": "code",
   "execution_count": 1,
   "id": "cf74b1bd",
   "metadata": {},
   "outputs": [],
   "source": [
    "# import libraries\n",
    "from arcgis.gis import GIS\n",
    "from arcgis.graph import KnowledgeGraph\n",
    "from getpass import getpass\n",
    "from uuid import UUID"
   ]
  },
  {
   "cell_type": "markdown",
   "id": "93504fe6",
   "metadata": {},
   "source": [
    "The first step to creating a knowledge graph is to create the service in the portal. This can be accomplished with the [`create_service`](https://developers.arcgis.com/python/api-reference/arcgis.gis.toc.html#arcgis.gis.ContentManager.create_service) function in the ArcGIS API for Python."
   ]
  },
  {
   "cell_type": "code",
   "execution_count": 2,
   "id": "9cd198a1",
   "metadata": {},
   "outputs": [
    {
     "name": "stdout",
     "output_type": "stream",
     "text": [
      "········\n"
     ]
    }
   ],
   "source": [
    "gis = GIS(\"<insert portal url>\", \"<insert username>\", getpass())\n",
    "result = gis.content.create_service(\n",
    "    name=\"data_creation\",\n",
    "    capabilities=\"Query,Editing,Create,Update,Delete\",\n",
    "    service_type=\"KnowledgeGraph\"\n",
    ")\n",
    "knowledge_graph = KnowledgeGraph(result.url, gis=gis)"
   ]
  },
  {
   "cell_type": "markdown",
   "id": "834802d6",
   "metadata": {},
   "source": [
    "We can start to populate the graph by creating a single entity type with the properties we want to populate. This is done using [`named_object_type_adds()`](https://developers.arcgis.com/python/api-reference/arcgis.graph.html) in the arcgis.graph module."
   ]
  },
  {
   "cell_type": "code",
   "execution_count": 3,
   "id": "919cfe3e",
   "metadata": {},
   "outputs": [
    {
     "data": {
      "text/plain": [
       "{'entityAddResults': [{'name': 'Person'}], 'relationshipAddResults': []}"
      ]
     },
     "execution_count": 3,
     "metadata": {},
     "output_type": "execute_result"
    }
   ],
   "source": [
    "knowledge_graph.named_object_type_adds(\n",
    "    entity_types=[\n",
    "        # one dictionary for each type, containing information about that type (optionally including properties to add)\n",
    "        {\n",
    "            # at a minimum, a name is required to create a new type. other details can be added as needed.\n",
    "            \"name\": \"Person\",\n",
    "            # can either add all properties right away or add them later\n",
    "            \"properties\": {\n",
    "                # minimum needed for creating a property type is the name and the role, more can be included as needed\n",
    "                # fieldType defaults to esriFieldTypeString, so is only really needed for different types\n",
    "                \"name\": {\n",
    "                    \"name\": \"name\",\n",
    "                    \"fieldType\": \"esriFieldTypeString\",\n",
    "                    \"role\": \"esriGraphPropertyRegular\"\n",
    "                },\n",
    "                \"role\": {\n",
    "                    \"name\": \"role\",\n",
    "                    \"role\": \"esriGraphPropertyRegular\"\n",
    "                },\n",
    "                \"shape\": {\n",
    "                    \"name\": \"shape\",\n",
    "                    \"fieldType\": \"esriFieldTypeGeometry\",\n",
    "                    \"geometryType\": \"esriGeometryPoint\",\n",
    "                    \"role\": \"esriGraphPropertyRegular\"\n",
    "                }\n",
    "            }\n",
    "        }\n",
    "    ]\n",
    ")"
   ]
  },
  {
   "cell_type": "markdown",
   "id": "fb2d2baa",
   "metadata": {},
   "source": [
    "Now that the entity type has been added to the data model, we can create data in the graph of that type. This is done using `apply_edits()`."
   ]
  },
  {
   "cell_type": "code",
   "execution_count": 4,
   "id": "991e6425",
   "metadata": {},
   "outputs": [
    {
     "data": {
      "text/plain": [
       "{'editsResult': {'Person': {'addResults': [{'id': UUID('5f7d84af-78ce-41a2-a7b4-d7e4215663b2')},\n",
       "    {'id': UUID('e95c4a4b-5fd0-461f-b2c1-3938570beca7')}]}},\n",
       " 'cascadedDeletes': {},\n",
       " 'relationshipSchemaChanges': {},\n",
       " 'cascadedProvenanceDeletes': []}"
      ]
     },
     "execution_count": 4,
     "metadata": {},
     "output_type": "execute_result"
    }
   ],
   "source": [
    "knowledge_graph.apply_edits(adds=[{\n",
    "            \"_objectType\": \"entity\",\n",
    "            \"_typeName\": \"Person\",\n",
    "            \"_properties\": {\n",
    "                \"name\": \"Megan\", \n",
    "                \"role\": \"Senior Product Engineer\",\n",
    "                \"shape\": {\n",
    "                    'x': -89.366878,\n",
    "                    'y': 43.084730,\n",
    "                    'spatialReference': {'wkid': 4326},\n",
    "                    '_objectType': 'geometry'\n",
    "                }\n",
    "            }\n",
    "        },{\n",
    "            \"_objectType\": \"entity\",\n",
    "            \"_typeName\": \"Person\",\n",
    "            \"_properties\": {\n",
    "                \"name\": \"Tim\",\n",
    "                \"role\": \"Director of Contextual Intelligence\",\n",
    "                \"shape\": {\n",
    "                    'x': -77.325666,\n",
    "                    'y': 38.907065,\n",
    "                    'spatialReference': {'wkid': 4326},\n",
    "                    '_objectType': 'geometry'\n",
    "                }\n",
    "            }\n",
    "        }\n",
    "    ]\n",
    ")"
   ]
  },
  {
   "cell_type": "markdown",
   "id": "5f9ccdb0",
   "metadata": {},
   "source": [
    "Add a relationship type and additional entity type to the data model using another `named_object_type_adds`."
   ]
  },
  {
   "cell_type": "code",
   "execution_count": 5,
   "id": "e74ecb9a",
   "metadata": {},
   "outputs": [
    {
     "data": {
      "text/plain": [
       "{'entityAddResults': [{'name': 'Company'}],\n",
       " 'relationshipAddResults': [{'name': 'WorksAt'}]}"
      ]
     },
     "execution_count": 5,
     "metadata": {},
     "output_type": "execute_result"
    }
   ],
   "source": [
    "knowledge_graph.named_object_type_adds(\n",
    "    entity_types=[\n",
    "        {\n",
    "            \"name\": \"Company\",\n",
    "            \"properties\": {\n",
    "                \"name\": {\n",
    "                    \"name\": \"name\",\n",
    "                    \"fieldType\": \"esriFieldTypeString\",\n",
    "                    \"role\": \"esriGraphPropertyRegular\"\n",
    "                }\n",
    "            }\n",
    "        }\n",
    "    ],\n",
    "    relationship_types=[\n",
    "        {\n",
    "            \"name\": \"WorksAt\"\n",
    "        }\n",
    "    ]\n",
    ")"
   ]
  },
  {
   "cell_type": "markdown",
   "id": "f608b5b4",
   "metadata": {},
   "source": [
    "Now that we have all of our entity and relationship types, we can add new entities and relationships to the graph. We will start by adding our company entity."
   ]
  },
  {
   "cell_type": "code",
   "execution_count": 6,
   "id": "4baff08b",
   "metadata": {},
   "outputs": [
    {
     "data": {
      "text/plain": [
       "{'editsResult': {'Company': {'addResults': [{'id': UUID('5d4ca1e6-1b53-49c5-9bc6-14abe9e5e1e5')}]}},\n",
       " 'cascadedDeletes': {},\n",
       " 'relationshipSchemaChanges': {},\n",
       " 'cascadedProvenanceDeletes': []}"
      ]
     },
     "execution_count": 6,
     "metadata": {},
     "output_type": "execute_result"
    }
   ],
   "source": [
    "knowledge_graph.apply_edits(adds=[{\n",
    "            \"_objectType\": \"entity\",\n",
    "            \"_typeName\": \"Company\",\n",
    "            \"_properties\": {\n",
    "                \"name\": \"Esri\"\n",
    "            }\n",
    "        }\n",
    "])"
   ]
  },
  {
   "cell_type": "markdown",
   "id": "fa57a684",
   "metadata": {},
   "source": [
    "To create relationships between the entities, we need to know their unique ids. These can be found through a graph query using `query()`."
   ]
  },
  {
   "cell_type": "code",
   "execution_count": 7,
   "id": "6697f391",
   "metadata": {},
   "outputs": [
    {
     "data": {
      "text/plain": [
       "{'editsResult': {'WorksAt': {'addResults': [{'id': UUID('977ac517-dfc7-46f8-bb95-fedb9f849a37')},\n",
       "    {'id': UUID('a80021be-bed9-4836-906a-5c109f4cfa1b')}]}},\n",
       " 'cascadedDeletes': {},\n",
       " 'relationshipSchemaChanges': {'WorksAt': {'new_end_points': [{'origin_entity_type': 'Person',\n",
       "     'dest_entity_type': 'Company'}]}},\n",
       " 'cascadedProvenanceDeletes': []}"
      ]
     },
     "execution_count": 7,
     "metadata": {},
     "output_type": "execute_result"
    }
   ],
   "source": [
    "# get each entity unique id from a query\n",
    "megan = knowledge_graph.query(\"MATCH (p:Person {name: 'Megan'}) RETURN p.globalid\")[0][0]\n",
    "tim = knowledge_graph.query(\"MATCH (p:Person {name: 'Tim'}) RETURN p.globalid\")[0][0]\n",
    "esri = knowledge_graph.query(\"MATCH (c:Company {name: 'Esri'}) RETURN c.globalid\")[0][0]\n",
    "\n",
    "# create relationships in the graph\n",
    "knowledge_graph.apply_edits(adds=[{\n",
    "            \"_objectType\": \"relationship\",\n",
    "            \"_typeName\": \"WorksAt\",\n",
    "            \"_originEntityId\": megan,\n",
    "            \"_destinationEntityId\": esri\n",
    "        },\n",
    "    {\n",
    "        \"_objectType\": \"relationship\",\n",
    "        \"_typeName\": \"WorksAt\",\n",
    "        \"_originEntityId\": tim,\n",
    "        \"_destinationEntityId\": esri\n",
    "    }\n",
    "])"
   ]
  },
  {
   "cell_type": "markdown",
   "id": "af259d2c",
   "metadata": {},
   "source": [
    "We did a query to find the entities we were interested in before, so let's take a look at what returning an entity and relationship looks like."
   ]
  },
  {
   "cell_type": "code",
   "execution_count": 8,
   "id": "176f93b3",
   "metadata": {},
   "outputs": [
    {
     "data": {
      "text/plain": [
       "[[{'_objectType': 'entity',\n",
       "   '_typeName': 'Person',\n",
       "   '_id': UUID('5f7d84af-78ce-41a2-a7b4-d7e4215663b2'),\n",
       "   '_properties': {'role': 'Senior Product Engineer',\n",
       "    'shape': {'x': -89.366878,\n",
       "     'y': 43.08473,\n",
       "     'spatialReference': {'wkid': 4326},\n",
       "     '_objectType': 'geometry'},\n",
       "    'name': 'Megan',\n",
       "    'globalid': UUID('5f7d84af-78ce-41a2-a7b4-d7e4215663b2'),\n",
       "    'objectid': 1}},\n",
       "  {'_objectType': 'relationship',\n",
       "   '_typeName': 'WorksAt',\n",
       "   '_id': UUID('977ac517-dfc7-46f8-bb95-fedb9f849a37'),\n",
       "   '_originEntityId': UUID('5f7d84af-78ce-41a2-a7b4-d7e4215663b2'),\n",
       "   '_destinationEntityId': UUID('5d4ca1e6-1b53-49c5-9bc6-14abe9e5e1e5'),\n",
       "   '_properties': {'globalid': UUID('977ac517-dfc7-46f8-bb95-fedb9f849a37'),\n",
       "    'objectid': 1}},\n",
       "  {'_objectType': 'entity',\n",
       "   '_typeName': 'Company',\n",
       "   '_id': UUID('5d4ca1e6-1b53-49c5-9bc6-14abe9e5e1e5'),\n",
       "   '_properties': {'name': 'Esri',\n",
       "    'globalid': UUID('5d4ca1e6-1b53-49c5-9bc6-14abe9e5e1e5'),\n",
       "    'objectid': 1}}]]"
      ]
     },
     "execution_count": 8,
     "metadata": {},
     "output_type": "execute_result"
    }
   ],
   "source": [
    "knowledge_graph.query(\"MATCH (p:Person)-[w:WorksAt]->(c:Company) RETURN p,w,c LIMIT 1\")"
   ]
  },
  {
   "cell_type": "markdown",
   "id": "941a6b2d",
   "metadata": {},
   "source": [
    "openCypher can also be used to get specific information from the entities and relationships."
   ]
  },
  {
   "cell_type": "code",
   "execution_count": 9,
   "id": "efed06d0",
   "metadata": {},
   "outputs": [
    {
     "data": {
      "text/plain": [
       "[['Senior Product Engineer']]"
      ]
     },
     "execution_count": 9,
     "metadata": {},
     "output_type": "execute_result"
    }
   ],
   "source": [
    "knowledge_graph.query(\"MATCH (p:Person {name: 'Megan'}) RETURN p.role\")"
   ]
  },
  {
   "cell_type": "markdown",
   "id": "f8e28cba",
   "metadata": {},
   "source": [
    "Updates can be made to the entities and relationships at any time using `apply_edits()`."
   ]
  },
  {
   "cell_type": "code",
   "execution_count": 10,
   "id": "f1d2e8e9",
   "metadata": {},
   "outputs": [
    {
     "data": {
      "text/plain": [
       "{'editsResult': {'Person': {'updateResults': [{'id': UUID('5f7d84af-78ce-41a2-a7b4-d7e4215663b2')}]}},\n",
       " 'cascadedDeletes': {},\n",
       " 'relationshipSchemaChanges': {},\n",
       " 'cascadedProvenanceDeletes': []}"
      ]
     },
     "execution_count": 10,
     "metadata": {},
     "output_type": "execute_result"
    }
   ],
   "source": [
    "knowledge_graph.apply_edits(updates= [{\n",
    "    \"_objectType\": \"entity\",\n",
    "    \"_typeName\": \"Person\",\n",
    "    \"_id\": megan,\n",
    "    \"_properties\": {\"role\": \"Graphiest Product Engineer\"}\n",
    "}])"
   ]
  },
  {
   "cell_type": "markdown",
   "id": "b25c8011",
   "metadata": {},
   "source": [
    "Using `query_streaming` we can pass information in as bind parameters to make queries more resuable with different input data."
   ]
  },
  {
   "cell_type": "code",
   "execution_count": 11,
   "id": "1abe00da",
   "metadata": {},
   "outputs": [
    {
     "data": {
      "text/plain": [
       "[['Graphiest Product Engineer']]"
      ]
     },
     "execution_count": 11,
     "metadata": {},
     "output_type": "execute_result"
    }
   ],
   "source": [
    "result = knowledge_graph.query_streaming(\"MATCH (p:Person {name: $name}) RETURN p.role\", bind_param={\"name\": \"Megan\"})\n",
    "list(result)"
   ]
  },
  {
   "cell_type": "code",
   "execution_count": 12,
   "id": "19b43bb8",
   "metadata": {},
   "outputs": [
    {
     "data": {
      "text/plain": [
       "{'propertyAddResults': [{'name': 'employee_id'}]}"
      ]
     },
     "execution_count": 12,
     "metadata": {},
     "output_type": "execute_result"
    }
   ],
   "source": [
    "knowledge_graph.graph_property_adds(\n",
    "    type_name=\"Person\", \n",
    "    graph_properties=[{\n",
    "        \"name\": \"employee_id\", \n",
    "        \"fieldType\": \"esriFieldTypeInteger\",\n",
    "        \"role\": \"esriGraphPropertyRegular\"\n",
    "    }]\n",
    ")"
   ]
  },
  {
   "cell_type": "code",
   "execution_count": 13,
   "id": "7ffc56e2",
   "metadata": {},
   "outputs": [
    {
     "data": {
      "text/plain": [
       "{'editsResult': {'Person': {'updateResults': [{'id': UUID('5f7d84af-78ce-41a2-a7b4-d7e4215663b2')},\n",
       "    {'id': UUID('e95c4a4b-5fd0-461f-b2c1-3938570beca7')}]}},\n",
       " 'cascadedDeletes': {},\n",
       " 'relationshipSchemaChanges': {},\n",
       " 'cascadedProvenanceDeletes': []}"
      ]
     },
     "execution_count": 13,
     "metadata": {},
     "output_type": "execute_result"
    }
   ],
   "source": [
    "knowledge_graph.apply_edits(updates=[{\n",
    "        \"_objectType\": \"entity\",\n",
    "        \"_typeName\": \"Person\",\n",
    "        \"_id\": megan,\n",
    "        \"_properties\": {\"employee_id\": 392472034}\n",
    "    },{\n",
    "        \"_objectType\": \"entity\",\n",
    "        \"_typeName\": \"Person\",\n",
    "        \"_id\": tim,\n",
    "        \"_properties\": {\"employee_id\": 8247302}\n",
    "    }]\n",
    ")"
   ]
  },
  {
   "cell_type": "code",
   "execution_count": 14,
   "id": "d6dedd0b",
   "metadata": {},
   "outputs": [
    {
     "data": {
      "text/plain": [
       "{'editsResult': {'Person': {'deleteResults': [{'id': UUID('e95c4a4b-5fd0-461f-b2c1-3938570beca7')}]}},\n",
       " 'cascadedDeletes': {'WorksAt': [{'id': UUID('a80021be-bed9-4836-906a-5c109f4cfa1b'),\n",
       "    'originId': UUID('e95c4a4b-5fd0-461f-b2c1-3938570beca7'),\n",
       "    'destId': UUID('5d4ca1e6-1b53-49c5-9bc6-14abe9e5e1e5')}]},\n",
       " 'relationshipSchemaChanges': {},\n",
       " 'cascadedProvenanceDeletes': []}"
      ]
     },
     "execution_count": 14,
     "metadata": {},
     "output_type": "execute_result"
    }
   ],
   "source": [
    "knowledge_graph.apply_edits(deletes=[{\n",
    "    \"_objectType\": \"entity\",\n",
    "    \"_typeName\": \"Person\",\n",
    "    \"_ids\": [tim]\n",
    "}], cascade_delete=True)"
   ]
  },
  {
   "cell_type": "markdown",
   "id": "23cc6e2e",
   "metadata": {},
   "source": [
    "## Error examples"
   ]
  },
  {
   "cell_type": "code",
   "execution_count": 15,
   "id": "c7ea73c0",
   "metadata": {},
   "outputs": [
    {
     "data": {
      "text/plain": [
       "{'error': {'error_code': 111215,\n",
       "  'error_message': \"Apply edits operation cannot be performed. The apply edits payload contains 'Employee_id' field in 'Person' type, which is not present in the data model.\"},\n",
       " 'editsResult': {},\n",
       " 'cascadedDeletes': {},\n",
       " 'relationshipSchemaChanges': {},\n",
       " 'cascadedProvenanceDeletes': []}"
      ]
     },
     "execution_count": 15,
     "metadata": {},
     "output_type": "execute_result"
    }
   ],
   "source": [
    "knowledge_graph.apply_edits(updates=[{\n",
    "        \"_objectType\": \"entity\",\n",
    "        \"_typeName\": \"Person\",\n",
    "        \"_id\": megan,\n",
    "        \"_properties\": {\"Employee_id\": 392472034}\n",
    "    }]\n",
    ")"
   ]
  },
  {
   "cell_type": "code",
   "execution_count": 16,
   "id": "8204a303",
   "metadata": {},
   "outputs": [
    {
     "name": "stdout",
     "output_type": "stream",
     "text": [
      "\n",
      "Entity type  Company  has properties: \n",
      "objectid\n",
      "globalid\n",
      "name\n",
      "\n",
      "Entity type  Document  has properties: \n",
      "objectid\n",
      "globalid\n",
      "geometry\n",
      "metadata\n",
      "fileExtension\n",
      "contentType\n",
      "keywords\n",
      "text\n",
      "url\n",
      "title\n",
      "name\n",
      "\n",
      "Entity type  Person  has properties: \n",
      "employee_id\n",
      "objectid\n",
      "globalid\n",
      "shape\n",
      "role\n",
      "name\n"
     ]
    }
   ],
   "source": [
    "for entity in knowledge_graph.datamodel['entity_types']:\n",
    "    print(\"\\nEntity type \", entity, \" has properties: \")\n",
    "    for prop in knowledge_graph.datamodel['entity_types'][entity]['properties']:\n",
    "        print(prop)"
   ]
  },
  {
   "cell_type": "code",
   "execution_count": 17,
   "id": "787fcb08",
   "metadata": {},
   "outputs": [
    {
     "data": {
      "text/plain": [
       "{'error': {'error_code': 111035,\n",
       "  'error_message': \"Apply edit contains data that does not match the data type in data model. Data model contains 'employee_id' field - data type 'esriFieldTypeInteger' in 'Person'. Apply edit data is of type 'esriFieldTypeString'.\"},\n",
       " 'editsResult': {},\n",
       " 'cascadedDeletes': {},\n",
       " 'relationshipSchemaChanges': {},\n",
       " 'cascadedProvenanceDeletes': []}"
      ]
     },
     "execution_count": 17,
     "metadata": {},
     "output_type": "execute_result"
    }
   ],
   "source": [
    "knowledge_graph.apply_edits(updates=[{\n",
    "        \"_objectType\": \"entity\",\n",
    "        \"_typeName\": \"Person\",\n",
    "        \"_id\": megan,\n",
    "        \"_properties\": {\"employee_id\": \"392472034\"}\n",
    "    }]\n",
    ")"
   ]
  },
  {
   "cell_type": "code",
   "execution_count": 18,
   "id": "26fb1f3b",
   "metadata": {},
   "outputs": [
    {
     "data": {
      "text/plain": [
       "{'error': {'error_code': 0, 'error_message': ''},\n",
       " 'editsResult': {'Person': {'updateResults': [{'id': UUID('102bb72d-ffb1-456e-9b0a-7630e177ba9d'),\n",
       "     'error': {'error_code': 111113,\n",
       "      'error_message': \"Failed to update the entity or relationship for 'Person'.\"}}]}},\n",
       " 'cascadedDeletes': {},\n",
       " 'relationshipSchemaChanges': {},\n",
       " 'cascadedProvenanceDeletes': []}"
      ]
     },
     "execution_count": 18,
     "metadata": {},
     "output_type": "execute_result"
    }
   ],
   "source": [
    "knowledge_graph.apply_edits(updates=[{\n",
    "        \"_objectType\": \"entity\",\n",
    "        \"_typeName\": \"Person\",\n",
    "        \"_id\": UUID(\"102bb72d-ffb1-456e-9b0a-7630e177ba9d\"),\n",
    "        \"_properties\": {\"employee_id\": 392472034}\n",
    "    }]\n",
    ")"
   ]
  },
  {
   "cell_type": "code",
   "execution_count": null,
   "id": "70b78913",
   "metadata": {},
   "outputs": [],
   "source": []
  }
 ],
 "metadata": {
  "kernelspec": {
   "display_name": "Python 3 (ipykernel)",
   "language": "python",
   "name": "python3"
  },
  "language_info": {
   "codemirror_mode": {
    "name": "ipython",
    "version": 3
   },
   "file_extension": ".py",
   "mimetype": "text/x-python",
   "name": "python",
   "nbconvert_exporter": "python",
   "pygments_lexer": "ipython3",
   "version": "3.9.16"
  }
 },
 "nbformat": 4,
 "nbformat_minor": 5
}
